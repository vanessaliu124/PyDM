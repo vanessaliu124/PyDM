{
 "cells": [
  {
   "cell_type": "code",
   "execution_count": 161,
   "metadata": {
    "collapsed": false
   },
   "outputs": [],
   "source": [
    "#import the magic pandas\n",
    "import pandas as pd"
   ]
  },
  {
   "cell_type": "code",
   "execution_count": 162,
   "metadata": {
    "collapsed": false
   },
   "outputs": [
    {
     "name": "stdout",
     "output_type": "stream",
     "text": [
      "   key Child Parent\n",
      "0    1     A      B\n",
      "1    2     A      B\n",
      "2    3     A      C\n",
      "3    4     B      D\n",
      "4    5     B      D\n",
      "5    6     X      Y\n",
      "6    7     D      E\n",
      "7    8     D      E\n"
     ]
    }
   ],
   "source": [
    "#import the relationship info\n",
    "df = pd.read_excel('AutoDM.xlsx')\n",
    "print df"
   ]
  },
  {
   "cell_type": "code",
   "execution_count": 163,
   "metadata": {
    "collapsed": false,
    "scrolled": true
   },
   "outputs": [
    {
     "name": "stdout",
     "output_type": "stream",
     "text": [
      "    key_root Child_root Parent_root  key_0 Child_0 Parent_0\n",
      "0          1          A           B    NaN     NaN      NaN\n",
      "1          2          A           B    NaN     NaN      NaN\n",
      "2          3          A           C    NaN     NaN      NaN\n",
      "3          4          B           D    1.0       A        B\n",
      "4          4          B           D    2.0       A        B\n",
      "5          5          B           D    1.0       A        B\n",
      "6          5          B           D    2.0       A        B\n",
      "7          6          X           Y    NaN     NaN      NaN\n",
      "8          7          D           E    4.0       B        D\n",
      "9          7          D           E    5.0       B        D\n",
      "10         8          D           E    4.0       B        D\n",
      "11         8          D           E    5.0       B        D\n"
     ]
    }
   ],
   "source": [
    "#get the root tables\n",
    "root_0 = pd.merge(df, df, how = 'left', left_on = 'Child', right_on = 'Parent',suffixes=('_root', '_0'))\n",
    "print root_0\n"
   ]
  },
  {
   "cell_type": "code",
   "execution_count": 164,
   "metadata": {
    "collapsed": false
   },
   "outputs": [
    {
     "name": "stdout",
     "output_type": "stream",
     "text": [
      "  Child_root\n",
      "0          A\n",
      "7          X\n"
     ]
    }
   ],
   "source": [
    "root_1 = root_0[root_0.isnull().any(axis=1)]\n",
    "root_2 = root_1.ix[:,0:3]\n",
    "root_table_0 = root_2.ix[:,1:2]\n",
    "root_table_only = root_table_0.drop_duplicates()\n",
    "print root_table_only"
   ]
  },
  {
   "cell_type": "code",
   "execution_count": 165,
   "metadata": {
    "collapsed": false
   },
   "outputs": [],
   "source": [
    "#root_table_only_renamed = root_table_only\n",
    "#df_cols = ['Child', '']\n",
    "#root_table_only_renamed.columns = df_cols\n",
    "#print root_table_only_renamed"
   ]
  },
  {
   "cell_type": "code",
   "execution_count": 166,
   "metadata": {
    "collapsed": false
   },
   "outputs": [
    {
     "name": "stdout",
     "output_type": "stream",
     "text": [
      "  Child\n",
      "0     A\n",
      "7     X\n"
     ]
    }
   ],
   "source": [
    "root_table_only_renamed = root_table_only\n",
    "root_table_only_renamed.columns = ['Child']\n",
    "print root_table_only_renamed"
   ]
  },
  {
   "cell_type": "code",
   "execution_count": 167,
   "metadata": {
    "collapsed": false
   },
   "outputs": [
    {
     "name": "stdout",
     "output_type": "stream",
     "text": [
      "  key Child Parent\n",
      "0   0     A  0Root\n",
      "7   0     X  0Root\n"
     ]
    }
   ],
   "source": [
    "root_table_3 = root_table_only\n",
    "root_table_3.insert(loc=1, column='key', value='0')\n",
    "root_table_3.insert(loc=2, column='Parent', value='0Root')\n",
    "root_table_4 = root_table_3\n",
    "root_table_4.columns = ['Child', 'key', 'Parent']\n",
    "root_table_4 = root_table_4.reindex(columns = ['key', 'Child','Parent'])\n",
    "print root_table_4"
   ]
  },
  {
   "cell_type": "code",
   "execution_count": 168,
   "metadata": {
    "collapsed": false
   },
   "outputs": [
    {
     "name": "stdout",
     "output_type": "stream",
     "text": [
      "  key Child Parent\n",
      "0   0     A  0Root\n",
      "7   0     X  0Root\n",
      "0   1     A      B\n",
      "1   2     A      B\n",
      "2   3     A      C\n",
      "3   4     B      D\n",
      "4   5     B      D\n",
      "5   6     X      Y\n",
      "6   7     D      E\n",
      "7   8     D      E\n"
     ]
    }
   ],
   "source": [
    "dff = root_table_4.append(df)\n",
    "#dff = dff.sort_values('key')\n",
    "print dff"
   ]
  },
  {
   "cell_type": "code",
   "execution_count": 169,
   "metadata": {
    "collapsed": false
   },
   "outputs": [
    {
     "name": "stdout",
     "output_type": "stream",
     "text": [
      "  Child key_x Parent_x key_y Parent_y\n",
      "0     A     0    0Root     0    0Root\n",
      "1     A     0    0Root     1        B\n",
      "2     A     0    0Root     2        B\n",
      "3     A     0    0Root     3        C\n",
      "4     X     0    0Root     0    0Root\n",
      "5     X     0    0Root     6        Y\n"
     ]
    }
   ],
   "source": [
    "first_layer = pd.merge(root_table_only, dff, how = 'left', left_on = 'Child', right_on = 'Child')\n",
    "print first_layer"
   ]
  },
  {
   "cell_type": "code",
   "execution_count": 170,
   "metadata": {
    "collapsed": false
   },
   "outputs": [
    {
     "name": "stdout",
     "output_type": "stream",
     "text": [
      "  Child_x key_x Parent_x key_y Parent_y  key Child_y Parent\n",
      "0       A     0    0Root     0    0Root  NaN     NaN    NaN\n",
      "1       A     0    0Root     1        B  NaN     NaN    NaN\n",
      "2       A     0    0Root     2        B  NaN     NaN    NaN\n",
      "3       A     0    0Root     3        C  NaN     NaN    NaN\n",
      "4       X     0    0Root     0    0Root  NaN     NaN    NaN\n",
      "5       X     0    0Root     6        Y  NaN     NaN    NaN\n"
     ]
    }
   ],
   "source": [
    "first_layer_na = pd.merge(first_layer, dff, how = 'left', left_on = 'key_y', right_on = 'Child')\n",
    "print first_layer_na"
   ]
  },
  {
   "cell_type": "code",
   "execution_count": 171,
   "metadata": {
    "collapsed": false
   },
   "outputs": [
    {
     "name": "stdout",
     "output_type": "stream",
     "text": [
      "  Child_x key_x Parent_x key_y Parent_y  key Child_y Parent\n",
      "0       A     0    0Root     0    0Root  NaN     NaN    NaN\n",
      "1       A     0    0Root     1        B    4       B      D\n",
      "2       A     0    0Root     1        B    5       B      D\n",
      "3       A     0    0Root     2        B    4       B      D\n",
      "4       A     0    0Root     2        B    5       B      D\n",
      "5       A     0    0Root     3        C  NaN     NaN    NaN\n",
      "6       X     0    0Root     0    0Root  NaN     NaN    NaN\n",
      "7       X     0    0Root     6        Y  NaN     NaN    NaN\n"
     ]
    }
   ],
   "source": [
    "second_merge = pd.merge(first_layer, dff, how = 'left', left_on = 'Parent_y', right_on = 'Child')\n",
    "print second_merge"
   ]
  },
  {
   "cell_type": "code",
   "execution_count": 172,
   "metadata": {
    "collapsed": false
   },
   "outputs": [
    {
     "name": "stdout",
     "output_type": "stream",
     "text": [
      "  Child_x key_x Parent_x key_y Parent_y  key Child_y Parent\n",
      "0       A     0    0Root     0    0Root  NaN     NaN    NaN\n",
      "1       A     0    0Root     1        B  NaN     NaN    NaN\n",
      "2       A     0    0Root     2        B  NaN     NaN    NaN\n",
      "3       A     0    0Root     3        C  NaN     NaN    NaN\n",
      "4       X     0    0Root     0    0Root  NaN     NaN    NaN\n",
      "5       X     0    0Root     6        Y  NaN     NaN    NaN\n",
      "6       A     0    0Root     1        B    4       B      D\n",
      "7       A     0    0Root     1        B    5       B      D\n",
      "8       A     0    0Root     2        B    4       B      D\n",
      "9       A     0    0Root     2        B    5       B      D\n"
     ]
    }
   ],
   "source": [
    "second_layer_0 = pd.merge(first_layer_na,second_merge, how = 'outer' )\n",
    "print second_layer_0"
   ]
  },
  {
   "cell_type": "code",
   "execution_count": 173,
   "metadata": {
    "collapsed": false
   },
   "outputs": [
    {
     "name": "stdout",
     "output_type": "stream",
     "text": [
      "  Child_x key_x Parent_x key_y Parent_y  key Child_y Parent\n",
      "0       A     0    0Root     0    0Root  NaN     NaN    NaN\n",
      "1       A     0    0Root     1        B  NaN     NaN    NaN\n",
      "2       A     0    0Root     2        B  NaN     NaN    NaN\n",
      "3       A     0    0Root     3        C  NaN     NaN    NaN\n",
      "6       A     0    0Root     1        B    4       B      D\n",
      "7       A     0    0Root     1        B    5       B      D\n",
      "8       A     0    0Root     2        B    4       B      D\n",
      "9       A     0    0Root     2        B    5       B      D\n",
      "4       X     0    0Root     0    0Root  NaN     NaN    NaN\n",
      "5       X     0    0Root     6        Y  NaN     NaN    NaN\n"
     ]
    }
   ],
   "source": [
    "second_layer_1 = second_layer_0\n",
    "second_layer_1 = second_layer_0.sort_values('Child_x')\n",
    "print second_layer_1"
   ]
  },
  {
   "cell_type": "code",
   "execution_count": 185,
   "metadata": {
    "collapsed": false
   },
   "outputs": [
    {
     "name": "stdout",
     "output_type": "stream",
     "text": [
      "  Child_x Parent_y key_y Parent  key\n",
      "0       A    0Root     0    NaN  NaN\n",
      "1       A        B     1    NaN  NaN\n",
      "2       A        B     2    NaN  NaN\n",
      "3       A        C     3    NaN  NaN\n",
      "6       A        B     1      D    4\n",
      "7       A        B     1      D    5\n",
      "8       A        B     2      D    4\n",
      "9       A        B     2      D    5\n",
      "4       X    0Root     0    NaN  NaN\n",
      "5       X        Y     6    NaN  NaN\n"
     ]
    }
   ],
   "source": [
    "second_layer = second_layer_1[['Child_x','Parent_y','key_y', 'Parent','key']]\n",
    "\n",
    "print second_layer"
   ]
  },
  {
   "cell_type": "code",
   "execution_count": 198,
   "metadata": {
    "collapsed": false
   },
   "outputs": [
    {
     "name": "stdout",
     "output_type": "stream",
     "text": [
      "  Root    P_1 key_1  P_2 key_2 key_3  C_2  P_3\n",
      "0    A  0Root     0  NaN   NaN   NaN  NaN  NaN\n",
      "1    A      B     1  NaN   NaN   NaN  NaN  NaN\n",
      "2    A      B     2  NaN   NaN   NaN  NaN  NaN\n",
      "3    A      C     3  NaN   NaN   NaN  NaN  NaN\n",
      "4    A      B     1    D     4   NaN  NaN  NaN\n",
      "5    A      B     1    D     5   NaN  NaN  NaN\n",
      "6    A      B     2    D     4   NaN  NaN  NaN\n",
      "7    A      B     2    D     5   NaN  NaN  NaN\n",
      "8    X  0Root     0  NaN   NaN   NaN  NaN  NaN\n",
      "9    X      Y     6  NaN   NaN   NaN  NaN  NaN\n"
     ]
    }
   ],
   "source": [
    "second_layer_na = pd.merge(second_layer, dff, how = 'left', left_on = 'key_y', right_on = 'Child',suffixes=('_x', '_y'))\n",
    "second_layer_na.columns = ['Root', 'P_1','key_1', 'P_2','key_2',  'key_3', 'C_2','P_3' ]\n",
    "print second_layer_na"
   ]
  },
  {
   "cell_type": "code",
   "execution_count": 199,
   "metadata": {
    "collapsed": false
   },
   "outputs": [
    {
     "name": "stdout",
     "output_type": "stream",
     "text": [
      "   Root    P_1 key_1  P_2 key_2 key_3  C_2  P_3\n",
      "0     A  0Root     0  NaN   NaN   NaN  NaN  NaN\n",
      "1     A      B     1  NaN   NaN   NaN  NaN  NaN\n",
      "2     A      B     2  NaN   NaN   NaN  NaN  NaN\n",
      "3     A      C     3  NaN   NaN   NaN  NaN  NaN\n",
      "4     A      B     1    D     4     7    D    E\n",
      "5     A      B     1    D     4     8    D    E\n",
      "6     A      B     1    D     5     7    D    E\n",
      "7     A      B     1    D     5     8    D    E\n",
      "8     A      B     2    D     4     7    D    E\n",
      "9     A      B     2    D     4     8    D    E\n",
      "10    A      B     2    D     5     7    D    E\n",
      "11    A      B     2    D     5     8    D    E\n",
      "12    X  0Root     0  NaN   NaN   NaN  NaN  NaN\n",
      "13    X      Y     6  NaN   NaN   NaN  NaN  NaN\n"
     ]
    }
   ],
   "source": [
    "third_merge = pd.merge(second_layer, dff, how = 'left', left_on = 'Parent', right_on = 'Child')\n",
    "third_merge.columns = ['Root', 'P_1','key_1', 'P_2','key_2',  'key_3', 'C_2','P_3' ]\n",
    "print third_merge"
   ]
  },
  {
   "cell_type": "code",
   "execution_count": 200,
   "metadata": {
    "collapsed": false
   },
   "outputs": [
    {
     "name": "stdout",
     "output_type": "stream",
     "text": [
      "   Root    P_1 key_1  P_2 key_2 key_3  C_2  P_3\n",
      "0     A  0Root     0  NaN   NaN   NaN  NaN  NaN\n",
      "1     A      B     1  NaN   NaN   NaN  NaN  NaN\n",
      "2     A      B     2  NaN   NaN   NaN  NaN  NaN\n",
      "3     A      C     3  NaN   NaN   NaN  NaN  NaN\n",
      "4     A      B     1    D     4   NaN  NaN  NaN\n",
      "5     A      B     1    D     5   NaN  NaN  NaN\n",
      "6     A      B     2    D     4   NaN  NaN  NaN\n",
      "7     A      B     2    D     5   NaN  NaN  NaN\n",
      "8     X  0Root     0  NaN   NaN   NaN  NaN  NaN\n",
      "9     X      Y     6  NaN   NaN   NaN  NaN  NaN\n",
      "10    A      B     1    D     4     7    D    E\n",
      "11    A      B     1    D     4     8    D    E\n",
      "12    A      B     1    D     5     7    D    E\n",
      "13    A      B     1    D     5     8    D    E\n",
      "14    A      B     2    D     4     7    D    E\n",
      "15    A      B     2    D     4     8    D    E\n",
      "16    A      B     2    D     5     7    D    E\n",
      "17    A      B     2    D     5     8    D    E\n"
     ]
    }
   ],
   "source": [
    "third_layer_0 = pd.merge(second_layer_na,third_merge, how = 'outer' )\n",
    "print third_layer_0"
   ]
  },
  {
   "cell_type": "code",
   "execution_count": 201,
   "metadata": {
    "collapsed": false
   },
   "outputs": [
    {
     "name": "stdout",
     "output_type": "stream",
     "text": [
      "   Root    P_1 key_1  P_2 key_2  P_3 key_3\n",
      "0     A  0Root     0  NaN   NaN  NaN   NaN\n",
      "1     A      B     1  NaN   NaN  NaN   NaN\n",
      "2     A      B     2  NaN   NaN  NaN   NaN\n",
      "4     A      B     1    D     4  NaN   NaN\n",
      "5     A      B     1    D     5  NaN   NaN\n",
      "6     A      B     2    D     4  NaN   NaN\n",
      "7     A      B     2    D     5  NaN   NaN\n",
      "10    A      B     1    D     4    E     7\n",
      "11    A      B     1    D     4    E     8\n",
      "12    A      B     1    D     5    E     7\n",
      "13    A      B     1    D     5    E     8\n",
      "14    A      B     2    D     4    E     7\n",
      "15    A      B     2    D     4    E     8\n",
      "16    A      B     2    D     5    E     7\n",
      "17    A      B     2    D     5    E     8\n",
      "3     A      C     3  NaN   NaN  NaN   NaN\n",
      "8     X  0Root     0  NaN   NaN  NaN   NaN\n",
      "9     X      Y     6  NaN   NaN  NaN   NaN\n"
     ]
    }
   ],
   "source": [
    "third_layer_1 = third_layer_0\n",
    "third_layer_1 = third_layer_1.sort_values(['Root', 'P_1'])\n",
    "third_layer_1 = third_layer_1[['Root','P_1', 'key_1', 'P_2','key_2','P_3', 'key_3']]\n",
    "print third_layer_1"
   ]
  },
  {
   "cell_type": "code",
   "execution_count": 202,
   "metadata": {
    "collapsed": false
   },
   "outputs": [
    {
     "name": "stdout",
     "output_type": "stream",
     "text": [
      "   Root    P_1  P_2  P_3\n",
      "0     A  0Root  NaN  NaN\n",
      "1     A      B  NaN  NaN\n",
      "2     A      B  NaN  NaN\n",
      "4     A      B    D  NaN\n",
      "5     A      B    D  NaN\n",
      "6     A      B    D  NaN\n",
      "7     A      B    D  NaN\n",
      "10    A      B    D    E\n",
      "11    A      B    D    E\n",
      "12    A      B    D    E\n",
      "13    A      B    D    E\n",
      "14    A      B    D    E\n",
      "15    A      B    D    E\n",
      "16    A      B    D    E\n",
      "17    A      B    D    E\n",
      "3     A      C  NaN  NaN\n",
      "8     X  0Root  NaN  NaN\n",
      "9     X      Y  NaN  NaN\n"
     ]
    }
   ],
   "source": [
    "third_layer_map = third_layer_1\n",
    "third_layer_map = third_layer_map[['Root', 'P_1', 'P_2','P_3']]\n",
    "print third_layer_map"
   ]
  },
  {
   "cell_type": "code",
   "execution_count": null,
   "metadata": {
    "collapsed": true
   },
   "outputs": [],
   "source": []
  },
  {
   "cell_type": "code",
   "execution_count": null,
   "metadata": {
    "collapsed": true
   },
   "outputs": [],
   "source": []
  },
  {
   "cell_type": "code",
   "execution_count": null,
   "metadata": {
    "collapsed": true
   },
   "outputs": [],
   "source": []
  },
  {
   "cell_type": "code",
   "execution_count": 23,
   "metadata": {
    "collapsed": true
   },
   "outputs": [],
   "source": [
    "#df.sort?\n",
    "pd.merge?suffixes"
   ]
  },
  {
   "cell_type": "code",
   "execution_count": null,
   "metadata": {
    "collapsed": true
   },
   "outputs": [],
   "source": []
  },
  {
   "cell_type": "code",
   "execution_count": null,
   "metadata": {
    "collapsed": true
   },
   "outputs": [],
   "source": []
  },
  {
   "cell_type": "code",
   "execution_count": null,
   "metadata": {
    "collapsed": true
   },
   "outputs": [],
   "source": []
  },
  {
   "cell_type": "code",
   "execution_count": null,
   "metadata": {
    "collapsed": true
   },
   "outputs": [],
   "source": []
  },
  {
   "cell_type": "code",
   "execution_count": null,
   "metadata": {
    "collapsed": true
   },
   "outputs": [],
   "source": []
  },
  {
   "cell_type": "code",
   "execution_count": null,
   "metadata": {
    "collapsed": true
   },
   "outputs": [],
   "source": []
  },
  {
   "cell_type": "code",
   "execution_count": 19,
   "metadata": {
    "collapsed": false
   },
   "outputs": [
    {
     "data": {
      "text/html": [
       "<div>\n",
       "<table border=\"1\" class=\"dataframe\">\n",
       "  <thead>\n",
       "    <tr style=\"text-align: right;\">\n",
       "      <th></th>\n",
       "      <th>Child</th>\n",
       "      <th>Parent</th>\n",
       "    </tr>\n",
       "  </thead>\n",
       "  <tbody>\n",
       "    <tr>\n",
       "      <th>0</th>\n",
       "      <td>A</td>\n",
       "      <td>B</td>\n",
       "    </tr>\n",
       "    <tr>\n",
       "      <th>1</th>\n",
       "      <td>A</td>\n",
       "      <td>B</td>\n",
       "    </tr>\n",
       "  </tbody>\n",
       "</table>\n",
       "</div>"
      ],
      "text/plain": [
       "  Child Parent\n",
       "0     A      B\n",
       "1     A      B"
      ]
     },
     "execution_count": 19,
     "metadata": {},
     "output_type": "execute_result"
    }
   ],
   "source": [
    "df[df.duplicated(['Child','Parent'],keep=False)]"
   ]
  },
  {
   "cell_type": "code",
   "execution_count": 20,
   "metadata": {
    "collapsed": false
   },
   "outputs": [
    {
     "data": {
      "text/plain": [
       "0     True\n",
       "1     True\n",
       "2    False\n",
       "3    False\n",
       "4    False\n",
       "dtype: bool"
      ]
     },
     "execution_count": 20,
     "metadata": {},
     "output_type": "execute_result"
    }
   ],
   "source": [
    "df.duplicated(['Child','Parent'],keep=False)"
   ]
  },
  {
   "cell_type": "code",
   "execution_count": 29,
   "metadata": {
    "collapsed": true
   },
   "outputs": [],
   "source": [
    "df.append?"
   ]
  },
  {
   "cell_type": "code",
   "execution_count": null,
   "metadata": {
    "collapsed": true
   },
   "outputs": [],
   "source": []
  }
 ],
 "metadata": {
  "anaconda-cloud": {},
  "kernelspec": {
   "display_name": "Python [conda root]",
   "language": "python",
   "name": "conda-root-py"
  },
  "language_info": {
   "codemirror_mode": {
    "name": "ipython",
    "version": 2
   },
   "file_extension": ".py",
   "mimetype": "text/x-python",
   "name": "python",
   "nbconvert_exporter": "python",
   "pygments_lexer": "ipython2",
   "version": "2.7.12"
  }
 },
 "nbformat": 4,
 "nbformat_minor": 1
}
